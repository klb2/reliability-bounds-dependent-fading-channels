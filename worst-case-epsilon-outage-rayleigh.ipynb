{
 "cells": [
  {
   "cell_type": "markdown",
   "metadata": {},
   "source": [
    "# Worst-Case $\\varepsilon$-Outage Capacity of Rayleigh Fading Channels"
   ]
  },
  {
   "cell_type": "markdown",
   "metadata": {},
   "source": [
    "_Author:_ Karl-Ludwig Besser, Technische Universität Braunschweig\n",
    "\n",
    "This notebook is part of the paper \"Reliability Bounds for Dependent Fading Wireless Channels\", K.-L. Besser and E. Jorswieck, IEEE Transactions on Wireless Communications, 2020 ([arXiv:1909.01415[cs.IT]](https://arxiv.org/abs/1909.01415), [DOI:10.1109/TWC.2020.2997332](https://doi.org/10.1109/TWC.2020.2997332)).  \n",
    "If you use any of this work, please cite the above paper."
   ]
  },
  {
   "cell_type": "markdown",
   "metadata": {},
   "source": [
    "## Introduction"
   ]
  },
  {
   "cell_type": "markdown",
   "metadata": {},
   "source": [
    "In the following, the worst-case $\\varepsilon$-capacity $\\underline{R}^{\\varepsilon}$ for Rayleigh fading channels is shown.\n",
    "\n",
    "In the case of Rayleigh fading, all $\\left|h\\right|^2\\sim\\exp(1)$ are exponentially distributed.  \n",
    "The final expression for $\\underline{R}^{\\varepsilon}$ is given by\n",
    "$$\\underline{R}^{\\varepsilon}(\\rho) = \\log_2\\left(1-\\rho \\cdot \\phi_{-}(1-\\varepsilon)\\right),$$\n",
    "where $\\rho$ is the SNR and $\\phi_{-}$ is derived from [[Wang et al., 2013, Eq. (3.9)]](https://doi.org/10.1007/s00780-012-0200-5) for $-X_i\\sim\\exp(1)$.  \n",
    "Please refer to the paper for details.\n",
    "\n",
    "The following code shows the (numerical) calculations.\n",
    "\n",
    "_Note:_ The calculations for the best-case capacity $\\overline{R}^{\\varepsilon}$ are shown in the notebook [Best-Case Epsilon-Outage Capacity of Rayleigh Fading Channels](best-case-epsilon-outage-rayleigh.ipynb). A comparison of worst-case and best-case with iid and comonotonic cases is presented in the notebook [Outage Capacity Rayleigh Channel](Outage%20Capacity%20Rayleigh%20Channel.ipynb)."
   ]
  },
  {
   "cell_type": "code",
   "execution_count": 1,
   "metadata": {},
   "outputs": [],
   "source": [
    "import numpy as np\n",
    "from scipy import optimize\n",
    "%matplotlib widget\n",
    "import matplotlib.pyplot as plt\n",
    "from ipywidgets import interact"
   ]
  },
  {
   "cell_type": "markdown",
   "metadata": {},
   "source": [
    "## Basic Functions"
   ]
  },
  {
   "cell_type": "code",
   "execution_count": 2,
   "metadata": {},
   "outputs": [],
   "source": [
    "# Negative of the exponential distribution (increasing density)\n",
    "def pdf(x):  # f_{-}\n",
    "    return np.exp(x)\n",
    "\n",
    "def cdf(x):  # F_{-}\n",
    "    return np.exp(x)\n",
    "\n",
    "def inv_cdf(x):  # G_{-}\n",
    "    return np.log(x)"
   ]
  },
  {
   "cell_type": "code",
   "execution_count": 3,
   "metadata": {},
   "outputs": [],
   "source": [
    "def H(x, n, a):  # H_{a}^{-}\n",
    "    return inv_cdf(a+x) + (n-1)*inv_cdf(1-(n-1)*x)\n",
    "\n",
    "def T(x, n, a):  # Integral of H_a^-(x)\n",
    "    return -n*x + (a+x)*np.log(a+x) + ((n-1)*x-1)*np.log(1-(n-1)*x)\n",
    "\n",
    "def psi(a):  # conditional expectation psi(a) = E[X|X > G(a)]\n",
    "    if a == 0:\n",
    "        return -1\n",
    "    elif a == 1:\n",
    "        return 0\n",
    "    else:\n",
    "        return (a-a*np.log(a)-1)/(1-a)"
   ]
  },
  {
   "cell_type": "code",
   "execution_count": 4,
   "metadata": {},
   "outputs": [],
   "source": [
    "# Calculation of cmin [Wang et al., 2013, Eq. (3.7)]\n",
    "def lhs_cmin(c, n, a):\n",
    "    if a+c == 0:\n",
    "        return 0\n",
    "    else:\n",
    "        return (a-1) + n*c - (a+c)*np.log(a+c) - ((n-1)*c-1)*np.log(1-(n-1)*c)\n",
    "\n",
    "def rhs_cmin(c, n, a):\n",
    "    return ((1-a)/n-c)*H(c, n, a)\n",
    "\n",
    "def diff_cmin(c, n, a):  # since LHS <= RHS --> LHS-RHS <= 0\n",
    "    return lhs_cmin(c, n, a) - rhs_cmin(c, n, a)\n",
    "\n",
    "def determine_cmin(n, a):\n",
    "    if (a > 0) and (diff_cmin(0, n, a) < 0):  # when inequality holds at c=0 --> cmin=0\n",
    "        return 0\n",
    "    _eps = np.finfo(float).eps\n",
    "    x0 = ((1-a)/n+_eps)/2\n",
    "    bracket = [0+_eps, (1-a)/(n*(n-1))]\n",
    "    try:\n",
    "        solution = optimize.root_scalar(diff_cmin, args=(n, a), x0=x0, bracket=bracket)\n",
    "    except ValueError as e:\n",
    "        print(\"Error during root solving for n={:d}, a={:.2f}: {}\".format(n, a, e))\n",
    "        return 1\n",
    "    return solution.root"
   ]
  },
  {
   "cell_type": "code",
   "execution_count": 5,
   "metadata": {},
   "outputs": [],
   "source": [
    "# Function phi_{-}(a) for increasing density\n",
    "def phi(a, n, cmin=None):\n",
    "    if cmin is None:\n",
    "        cmin = determine_cmin(n, a)\n",
    "    if cmin > 0:\n",
    "        _phi = H(0, n, a)\n",
    "    elif cmin == 0:\n",
    "        _phi = n*psi(a)\n",
    "    else:\n",
    "        raise ValueError(\"cmin must not be negative!\")\n",
    "    return _phi"
   ]
  },
  {
   "cell_type": "markdown",
   "metadata": {},
   "source": [
    "## Rate Calculation"
   ]
  },
  {
   "cell_type": "markdown",
   "metadata": {},
   "source": [
    "The rate is derived from the following solution for the outage-capacity\n",
    "$$s^{\\star} = -\\phi_{-}(1-\\varepsilon) = \\frac{2^{\\underline{R}^{\\varepsilon}}-1}{\\rho}.$$\n",
    "\n",
    "Please refer to the paper for details about this relation."
   ]
  },
  {
   "cell_type": "code",
   "execution_count": 6,
   "metadata": {},
   "outputs": [],
   "source": [
    "def calc_rate(eps, snr, n):\n",
    "    return np.log2(1-snr*phi(1-eps, n))"
   ]
  },
  {
   "cell_type": "markdown",
   "metadata": {},
   "source": [
    "## Plots of Different Relations"
   ]
  },
  {
   "cell_type": "markdown",
   "metadata": {},
   "source": [
    "### Influence of a on c_n"
   ]
  },
  {
   "cell_type": "code",
   "execution_count": 7,
   "metadata": {},
   "outputs": [
    {
     "data": {
      "application/vnd.jupyter.widget-view+json": {
       "model_id": "acfe4a7fc3ab4cd59705d8de2cf81fd3",
       "version_major": 2,
       "version_minor": 0
      },
      "text/plain": [
       "Canvas(toolbar=Toolbar(toolitems=[('Home', 'Reset original view', 'home', 'home'), ('Back', 'Back to previous …"
      ]
     },
     "metadata": {},
     "output_type": "display_data"
    },
    {
     "data": {
      "application/vnd.jupyter.widget-view+json": {
       "model_id": "abcf9b8ffa4044b69499ce2100d4d237",
       "version_major": 2,
       "version_minor": 0
      },
      "text/plain": [
       "interactive(children=(IntSlider(value=3, description='n', max=10, min=3), Output()), _dom_classes=('widget-int…"
      ]
     },
     "metadata": {},
     "output_type": "display_data"
    }
   ],
   "source": [
    "def cmin_plot_a():\n",
    "    fig, ax = plt.subplots(num=\"c_n vs a\")\n",
    "    ax.set_xlabel(\"a\")\n",
    "    ax.set_ylabel(\"c_n\")\n",
    "    a = (np.logspace(0, 1, 10)-1)/9\n",
    "    cmin = [determine_cmin(3, _a) for _a in a]\n",
    "    _plot = ax.plot(a, cmin, 'o-')[0]\n",
    "    \n",
    "    def update_plot(n=0):\n",
    "        _plot.set_ydata([determine_cmin(n, _a) for _a in a])\n",
    "        fig.canvas.draw_idle()\n",
    "    \n",
    "    interact(update_plot, n=(3, 10, 1))\n",
    "\n",
    "cmin_plot_a()"
   ]
  },
  {
   "cell_type": "markdown",
   "metadata": {},
   "source": [
    "It can be seen that $c_n$ decreases with increasing $a$ and increasing $n$. Above a certain $a$, $c_n$ is equal to zero. This threshold $a$ decreases with increasing $n$."
   ]
  },
  {
   "cell_type": "markdown",
   "metadata": {},
   "source": [
    "### Outage Rate"
   ]
  },
  {
   "cell_type": "code",
   "execution_count": 8,
   "metadata": {},
   "outputs": [
    {
     "data": {
      "application/vnd.jupyter.widget-view+json": {
       "model_id": "4c5217dffa154772a502daaa8f0acc81",
       "version_major": 2,
       "version_minor": 0
      },
      "text/plain": [
       "Canvas(toolbar=Toolbar(toolitems=[('Home', 'Reset original view', 'home', 'home'), ('Back', 'Back to previous …"
      ]
     },
     "metadata": {},
     "output_type": "display_data"
    },
    {
     "data": {
      "application/vnd.jupyter.widget-view+json": {
       "model_id": "d4ef1ec29aaa424ea4b6cb8e4145a547",
       "version_major": 2,
       "version_minor": 0
      },
      "text/plain": [
       "interactive(children=(IntSlider(value=3, description='n', max=10, min=3), IntSlider(value=3, description='snr_…"
      ]
     },
     "metadata": {},
     "output_type": "display_data"
    }
   ],
   "source": [
    "def outage_rate_plot(snr_init=3, n_init=3):\n",
    "    fig, ax = plt.subplots(num='Worst-Case Epsilon-Outage Capacity')\n",
    "    ax.set_ylabel(\"eps-Capacity\")\n",
    "    ax.set_xlabel(\"eps\")\n",
    "    eps = np.arange(0, 1, .05)\n",
    "    _rate = [calc_rate(_eps, snr_init, n_init) for _eps in eps]\n",
    "    _plot = ax.plot(eps, _rate, 'o-')[0]\n",
    "    ax.set_xlim([0, 1])\n",
    "    ax.set_ylim([0, 7])\n",
    "\n",
    "    def update_plot(n=n_init, snr_db=snr_init):\n",
    "        snr = 10**(snr_db/10.)\n",
    "        _plot.set_ydata([calc_rate(_eps, snr, n) for _eps in eps])\n",
    "        fig.canvas.draw_idle()\n",
    "\n",
    "    interact(update_plot, n=(3, 10, 1), snr_db=(-2, 10, 2))\n",
    "\n",
    "outage_rate_plot()"
   ]
  },
  {
   "cell_type": "markdown",
   "metadata": {},
   "source": [
    "It can be seen that the worst-case $\\varepsilon$-outage capacity increases with increasing $\\varepsilon$. Increasing $n$ and $\\rho$ also increase it. However, the zero-outage capacity in the worst case is always equal to zero."
   ]
  }
 ],
 "metadata": {
  "kernelspec": {
   "display_name": "Python 3",
   "language": "python",
   "name": "python3"
  },
  "language_info": {
   "codemirror_mode": {
    "name": "ipython",
    "version": 3
   },
   "file_extension": ".py",
   "mimetype": "text/x-python",
   "name": "python",
   "nbconvert_exporter": "python",
   "pygments_lexer": "ipython3",
   "version": "3.8.6"
  }
 },
 "nbformat": 4,
 "nbformat_minor": 2
}
