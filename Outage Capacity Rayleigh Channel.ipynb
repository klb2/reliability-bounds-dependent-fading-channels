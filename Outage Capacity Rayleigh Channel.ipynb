{
 "cells": [
  {
   "cell_type": "markdown",
   "metadata": {},
   "source": [
    "# $\\varepsilon$-Outage Capacity of Rayleigh Fading Channels"
   ]
  },
  {
   "cell_type": "markdown",
   "metadata": {},
   "source": [
    "_Author:_ Karl-Ludwig Besser, Technische Universität Braunschweig\n",
    "\n",
    "This notebook is part of the paper \"Reliability Bounds for Dependent Fading Wireless Channels\", K.-L. Besser and E. Jorswieck, IEEE Transactions on Wireless Communications, vol. 19, no. 9, pp. 5833-5845, 2020, ([arXiv:1909.01415[cs.IT]](https://arxiv.org/abs/1909.01415), [DOI:10.1109/TWC.2020.2997332](https://doi.org/10.1109/TWC.2020.2997332)).  \n",
    "If you use any of this work, please cite the above paper."
   ]
  },
  {
   "cell_type": "markdown",
   "metadata": {},
   "source": [
    "> If you are not familiar with Jupyter notebooks: The easiest way to use this notebook interactively, is to hit `Kernel --> Restart & Run All` in the menu. The will execute all cells and enable the interactive elements of the plots.  \n",
    "> Alternatively, you can execute the cells one by one using Shift+Return"
   ]
  },
  {
   "cell_type": "markdown",
   "metadata": {},
   "source": [
    "## Introduction"
   ]
  },
  {
   "cell_type": "markdown",
   "metadata": {},
   "source": [
    "In this notebook, the worst-case and best-case $\\varepsilon$-capacities for Rayleigh fading channels are shown. In addition, the $\\varepsilon$-capacities for independent and comonotonic fading coefficients are given.\n",
    "\n",
    "The $\\varepsilon$-capacity is defined as\n",
    "$$R^{\\varepsilon}=\\sup\\left\\{R: \\Pr\\left(X_1+X_2+\\dots+X_n < \\frac{2^R-1}{\\rho}\\right) < \\varepsilon\\right\\},$$\n",
    "where $\\rho$ is the SNR.  \n",
    "In the case of Rayleigh fading, all $\\left|h_i\\right|^2 = X_i$ are exponentially distributed, i.e., $\\left|h_i\\right|^2\\sim\\exp(1)$.\n",
    "\n",
    "\n",
    "The final expression for the worst-case $\\varepsilon$-capacity is given by\n",
    "$$\\underline{R}^{\\varepsilon}(\\rho) = \\log_2\\left(1-\\rho \\cdot \\phi_{-}(1-\\varepsilon)\\right).$$\n",
    "Please refer to the paper for details.  \n",
    "An interactive overview of the actual calculations can be found in the Jupyter notebook [Worst-Case Epsilon-Outage Capacity of Rayleigh Fading Channels](worst-case-epsilon-outage-rayleigh.ipynb).\n",
    "\n",
    "\n",
    "The best-case $\\varepsilon$-capacity is given by a similar expression as\n",
    "$$\\overline{R}^{\\varepsilon}(\\rho) = \\log_2\\left(1-\\rho \\cdot \\phi(\\varepsilon)\\right).$$\n",
    "Please refer to the paper for details ([arXiv:1909.01415[cs.IT]](https://arxiv.org/abs/1909.01415), [DOI:10.1109/TWC.2020.2997332](https://doi.org/10.1109/TWC.2020.2997332)).  \n",
    "An interactive overview of the actual calculations can be found in the Jupyter notebook [Best-Case Epsilon-Outage Capacity of Rayleigh Fading Channels](best-case-epsilon-outage-rayleigh.ipynb)."
   ]
  },
  {
   "cell_type": "code",
   "execution_count": 1,
   "metadata": {},
   "outputs": [],
   "source": [
    "import numpy as np\n",
    "%matplotlib widget\n",
    "import matplotlib.pyplot as plt\n",
    "from ipywidgets import interact"
   ]
  },
  {
   "cell_type": "markdown",
   "metadata": {},
   "source": [
    "## Needed Functions"
   ]
  },
  {
   "cell_type": "code",
   "execution_count": 2,
   "metadata": {},
   "outputs": [],
   "source": [
    "from best_case_rayleigh import best_case_rate\n",
    "from worst_case_rayleigh import worst_case_rate"
   ]
  },
  {
   "cell_type": "code",
   "execution_count": 3,
   "metadata": {},
   "outputs": [],
   "source": [
    "from scipy.special import gammaincinv\n",
    "\n",
    "def iid_case_rate(eps, snr, n):\n",
    "    return np.log2(1. + snr*gammaincinv(n, eps))\n",
    "\n",
    "def comonotonic_case_rate(eps, snr, n):\n",
    "    return np.log2(1. - snr*n*np.log(1-eps))"
   ]
  },
  {
   "cell_type": "code",
   "execution_count": 4,
   "metadata": {},
   "outputs": [],
   "source": [
    "def calc_rates(eps, snr_db, n):\n",
    "    snr = 10**(snr_db/10.)\n",
    "    rates = {}\n",
    "    rates['Best Case'] = [best_case_rate(_eps, snr, n) for _eps in eps]\n",
    "    rates['Worst Case'] = [worst_case_rate(_eps, snr, n) for _eps in eps]\n",
    "    rates['IID Case'] = iid_case_rate(eps, snr, n)\n",
    "    rates['Comonotonic'] = comonotonic_case_rate(eps, snr, n)\n",
    "    return rates"
   ]
  },
  {
   "cell_type": "markdown",
   "metadata": {},
   "source": [
    "## Plot"
   ]
  },
  {
   "cell_type": "code",
   "execution_count": 5,
   "metadata": {},
   "outputs": [
    {
     "data": {
      "application/vnd.jupyter.widget-view+json": {
       "model_id": "e69a744ed0f84864adceb480557a741a",
       "version_major": 2,
       "version_minor": 0
      },
      "text/plain": [
       "Canvas(toolbar=Toolbar(toolitems=[('Home', 'Reset original view', 'home', 'home'), ('Back', 'Back to previous …"
      ]
     },
     "metadata": {},
     "output_type": "display_data"
    },
    {
     "data": {
      "application/vnd.jupyter.widget-view+json": {
       "model_id": "830b7b0f890c4d6b8a90de1f522197a8",
       "version_major": 2,
       "version_minor": 0
      },
      "text/plain": [
       "interactive(children=(IntSlider(value=3, description='n', max=10, min=3), FloatSlider(value=5.0, description='…"
      ]
     },
     "metadata": {},
     "output_type": "display_data"
    }
   ],
   "source": [
    "def outage_rate_plot(snr_init=5, n_init=5):\n",
    "    fig, ax = plt.subplots(num=\"Eps-Outage Capacity of Rayleigh Fading Channels\")\n",
    "    ax.set_ylabel(\"eps-Capacity\")\n",
    "    ax.set_xlabel(\"eps\")\n",
    "    ax.set_ylim([-.1, 10])\n",
    "    eps = np.arange(0, 1, .05)\n",
    "    plots = {}\n",
    "    _rates = calc_rates(eps, snr_init, n_init)\n",
    "    for _label, _data in _rates.items():\n",
    "        plots[_label] = ax.plot(eps, _data, 'o-', label=_label)[0]\n",
    "    \n",
    "    def update_plot(n=0, snr_db=5):\n",
    "        _rates = calc_rates(eps, snr_db, n)\n",
    "        for _label, _data in _rates.items():\n",
    "            plots[_label].set_ydata(_data)\n",
    "        fig.canvas.draw_idle()\n",
    "\n",
    "    interact(update_plot, n=(3, 10, 1), snr_db=(0, 10, .5))\n",
    "    ax.legend()\n",
    "\n",
    "outage_rate_plot()"
   ]
  },
  {
   "cell_type": "markdown",
   "metadata": {},
   "source": [
    "# Zero-Outage Capacity With Perfect CSI\n",
    "\n",
    "A special case of the $\\varepsilon$-outage capacity is the zero-outage capacity, i.e., $\\varepsilon=0$.\n",
    "\n",
    "In the following, we will show bounds on the zero-outage capacity with the *additional assumption of perfect CSI at the transmitter*."
   ]
  },
  {
   "cell_type": "code",
   "execution_count": 6,
   "metadata": {},
   "outputs": [],
   "source": [
    "from scipy import integrate\n",
    "from best_case_rayleigh import determine_cmin, H\n",
    "\n",
    "def iid_zero_out_perf_csi(n, snr):\n",
    "    #snr = 10**(snr_db/10.)\n",
    "    return np.log2(1 + snr*(n-1))\n",
    "\n",
    "def _integral_best_zero_out(c, n):\n",
    "    \"\"\"Integral \\int_{1-c}^{1} 1/H(1-x) dx\"\"\"\n",
    "    result = integrate.quad(lambda x: 1./H(1-x, n, 0), 1-c, 1)\n",
    "    return result[0]\n",
    "\n",
    "def best_zero_out_perf_csi(n, snr):\n",
    "    #snr = 10**(snr_db/10.)\n",
    "    cn = np.array([determine_cmin(_n, 0) for _n in n])\n",
    "    _integral = np.array([_integral_best_zero_out(_c, _n) for _c, _n in zip(cn, n)])\n",
    "    denom = 1 - n*cn + H(cn, n, 0)*n*_integral\n",
    "    return np.log2(1 + snr*H(cn, n, 0)/denom)\n",
    "\n",
    "def calc_zero_out_cap(n, snr_db):\n",
    "    snr = 10**(snr_db/10.)\n",
    "    results = {}\n",
    "    results['Best Case CSI-R'] = [best_case_rate(0, snr, _n) for _n in n]\n",
    "    results['Best Case CSI-TR'] = best_zero_out_perf_csi(n, snr)\n",
    "    results['Iid Case CSI-TR'] = iid_zero_out_perf_csi(n, snr)\n",
    "    return results"
   ]
  },
  {
   "cell_type": "markdown",
   "metadata": {},
   "source": [
    "## Plot\n",
    "\n",
    "The following plot shows the zero-outage capacities for the following scenarios:\n",
    "* Perfect CSI-TR: Best Case\n",
    "* Perfect CSI-R: Best Case\n",
    "* Perfect CSI-TR: Iid Case\n",
    "\n",
    "It should be noted that the iid case with only CSI-R is zero. Therefore, only the best case CSI-R is shown.\n",
    "\n",
    "\n",
    "The following can be observed:\n",
    "* Perfect CSI-T increases the zero-outage capacity in the iid case to positive values\n",
    "* Perfect CSI-T increases the zero-outage capacity in the best case\n",
    "* However, the increase in the best case vanishes for increasing $n$\n"
   ]
  },
  {
   "cell_type": "code",
   "execution_count": 7,
   "metadata": {},
   "outputs": [
    {
     "data": {
      "application/vnd.jupyter.widget-view+json": {
       "model_id": "d10b2d64316d4ad683a046b4df5885b3",
       "version_major": 2,
       "version_minor": 0
      },
      "text/plain": [
       "Canvas(toolbar=Toolbar(toolitems=[('Home', 'Reset original view', 'home', 'home'), ('Back', 'Back to previous …"
      ]
     },
     "metadata": {},
     "output_type": "display_data"
    },
    {
     "data": {
      "application/vnd.jupyter.widget-view+json": {
       "model_id": "f0224dcaa2dd4afb8b9e809c6b6c229b",
       "version_major": 2,
       "version_minor": 0
      },
      "text/plain": [
       "interactive(children=(FloatSlider(value=5.0, description='snr_db', max=10.0, step=0.5), Output()), _dom_classe…"
      ]
     },
     "metadata": {},
     "output_type": "display_data"
    }
   ],
   "source": [
    "def zero_outage_perfect_csi_plot(snr_init=5):\n",
    "    fig, ax = plt.subplots(num=\"Zero-Outage Capacity of Rayleigh Fading Channels with Perfect CSI\")\n",
    "    ax.set_ylabel(\"Zero-Outage Capacity\")\n",
    "    ax.set_xlabel(\"n\")\n",
    "    ax.set_ylim([1, 6])\n",
    "    n = np.arange(2, 11)\n",
    "    plots = {}\n",
    "    _rates = calc_zero_out_cap(n, snr_init)\n",
    "    for _label, _data in _rates.items():\n",
    "        plots[_label] = ax.plot(n, _data, 'o-', label=_label)[0]\n",
    "    \n",
    "    def update_plot(snr_db=5):\n",
    "        _rates = calc_zero_out_cap(n, snr_db)\n",
    "        for _label, _data in _rates.items():\n",
    "            plots[_label].set_ydata(_data)\n",
    "        fig.canvas.draw_idle()\n",
    "\n",
    "    interact(update_plot, snr_db=(0, 10, .5))\n",
    "    ax.legend()\n",
    "\n",
    "zero_outage_perfect_csi_plot()"
   ]
  }
 ],
 "metadata": {
  "kernelspec": {
   "display_name": "Python 3",
   "language": "python",
   "name": "python3"
  },
  "language_info": {
   "codemirror_mode": {
    "name": "ipython",
    "version": 3
   },
   "file_extension": ".py",
   "mimetype": "text/x-python",
   "name": "python",
   "nbconvert_exporter": "python",
   "pygments_lexer": "ipython3",
   "version": "3.8.6"
  }
 },
 "nbformat": 4,
 "nbformat_minor": 2
}
