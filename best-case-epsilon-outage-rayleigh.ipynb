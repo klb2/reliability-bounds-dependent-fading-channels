{
 "cells": [
  {
   "cell_type": "markdown",
   "metadata": {},
   "source": [
    "# Best-Case $\\varepsilon$-Outage Capacity of Rayleigh Fading Channels"
   ]
  },
  {
   "cell_type": "markdown",
   "metadata": {},
   "source": [
    "_Author:_ Karl-Ludwig Besser, Technische Universität Braunschweig\n",
    "\n",
    "This notebook is part of the paper \"Reliability Bounds for Dependent Fading Wireless Channels\", K.-L. Besser and E. Jorswieck, IEEE Transactions on Wireless Communications, 2020 ([arXiv:1909.01415[cs.IT]](https://arxiv.org/abs/1909.01415), [DOI:10.1109/TWC.2020.2997332](https://doi.org/10.1109/TWC.2020.2997332)).  \n",
    "If you use any of this work, please cite the above paper."
   ]
  },
  {
   "cell_type": "markdown",
   "metadata": {},
   "source": [
    "## Introduction"
   ]
  },
  {
   "cell_type": "markdown",
   "metadata": {},
   "source": [
    "In the following, the best-case $\\varepsilon$-capacity $\\overline{R}^{\\varepsilon}$ for Rayleigh fading channels is shown.\n",
    "\n",
    "In the case of Rayleigh fading, all $\\left|h\\right|^2\\sim\\exp(1)$ are exponentially distributed.  \n",
    "The final expression for $\\overline{R}^{\\varepsilon}$ is given by\n",
    "$$\\overline{R}^{\\varepsilon}(\\rho) = \\log_2\\left(1+\\rho \\cdot \\phi(\\varepsilon)\\right),$$\n",
    "where $\\rho$ is the SNR and $\\phi$ is derived from [[Wang et al., 2013, Eq. (3.8)]](https://doi.org/10.1007/s00780-012-0200-5) for $X_i\\sim\\exp(1)$.  \n",
    "Please refer to the paper for details.\n",
    "\n",
    "The following code shows the (numerical) calculations.\n",
    "\n",
    "_Note:_ The calculations for the worst-case capacity $\\underline{R}^{\\varepsilon}$ are shown in the notebook [Worst-Case Epsilon-Outage Capacity of Rayleigh Fading Channels](worst-case-epsilon-outage-rayleigh.ipynb). A comparison of worst-case, best-case and iid-case is presented in the notebook [Outage Capacity Rayleigh Channel](Outage%20Capacity%20Rayleigh%20Channel.ipynb)."
   ]
  },
  {
   "cell_type": "code",
   "execution_count": 1,
   "metadata": {},
   "outputs": [],
   "source": [
    "import numpy as np\n",
    "from scipy import optimize\n",
    "%matplotlib widget\n",
    "import matplotlib.pyplot as plt\n",
    "from ipywidgets import interact"
   ]
  },
  {
   "cell_type": "markdown",
   "metadata": {},
   "source": [
    "## Basic Functions"
   ]
  },
  {
   "cell_type": "code",
   "execution_count": 2,
   "metadata": {},
   "outputs": [],
   "source": [
    "# Exponential distribution (decreasing density)\n",
    "def pdf(x):  # f\n",
    "    return np.exp(-x)\n",
    "\n",
    "def cdf(x):  # F\n",
    "    return 1-np.exp(-x)\n",
    "\n",
    "def inv_cdf(x):  # G\n",
    "    return -np.log(1-x)"
   ]
  },
  {
   "cell_type": "code",
   "execution_count": 3,
   "metadata": {},
   "outputs": [],
   "source": [
    "def H(x, n, a):\n",
    "    return (n-1)*inv_cdf(a+(n-1)*x) + inv_cdf(1-x)\n",
    "\n",
    "def T(x, n, a):  # Integral of H_a(x)\n",
    "    return n*x - x*np.log(x) + (1-a+x-n*x)*np.log(1-a+x-n*x)\n",
    "\n",
    "def psi(a):  # conditional expectation psi(a) = E[X|X > G(a)]\n",
    "    if a == 1:\n",
    "        return np.inf\n",
    "    return 1 - np.log(1-a)"
   ]
  },
  {
   "cell_type": "code",
   "execution_count": 4,
   "metadata": {},
   "outputs": [],
   "source": [
    "# Calculation of cmin [Wang et al., 2013, Eq. (3.7)]\n",
    "def lhs_cmin(c, n, a):\n",
    "    if c == 0:\n",
    "        return (-1 + a)*(-1 + np.log(1-a))\n",
    "    return (1-a)-(c*n - c*np.log(c) + (1-a+c-c*n)*np.log(1-a+c-c*n))\n",
    "\n",
    "def rhs_cmin(c, n, a):\n",
    "    return ((1-a)/n-c)*H(c, n, a)\n",
    "\n",
    "def diff_cmin(c, n, a):\n",
    "    return lhs_cmin(c, n, a) - rhs_cmin(c, n, a)\n",
    "\n",
    "\n",
    "def determine_cmin(n, a):\n",
    "    _eps = np.finfo(float).eps\n",
    "    x0 = ((1-a)/n+_eps)/2\n",
    "    bracket = [0+_eps, (1-a)/(n*(n-1))]\n",
    "    try:\n",
    "        solution = optimize.root_scalar(diff_cmin, args=(n, a), x0=x0,\n",
    "                                        bracket=bracket)\n",
    "    except ValueError as e:\n",
    "        print(\"Error during root solving for n={:d}, a={:.2f}: {}\".format(n, a, e))\n",
    "        return -1\n",
    "    return solution.root"
   ]
  },
  {
   "cell_type": "code",
   "execution_count": 5,
   "metadata": {},
   "outputs": [],
   "source": [
    "# Function phi(a) for decreasing density\n",
    "def phi(a, n, cmin=None):\n",
    "    if cmin is None:\n",
    "        cmin = determine_cmin(n, a)\n",
    "    if cmin > 0:\n",
    "        _phi = H(cmin, n, a)\n",
    "    elif cmin == 0:\n",
    "        _phi = n*psi(a)\n",
    "    else:\n",
    "        raise ValueError(\"cmin must not be negative!\")\n",
    "    return _phi"
   ]
  },
  {
   "cell_type": "markdown",
   "metadata": {},
   "source": [
    "## Rate Calculation"
   ]
  },
  {
   "cell_type": "markdown",
   "metadata": {},
   "source": [
    "The rate is derived from the following solution for the outage-capacity\n",
    "$$s^{\\star} = \\phi(\\varepsilon) = \\frac{2^{\\overline{R}^{\\varepsilon}}-1}{\\rho}.$$\n",
    "\n",
    "Please refer to the paper for details about this relation."
   ]
  },
  {
   "cell_type": "code",
   "execution_count": 6,
   "metadata": {},
   "outputs": [],
   "source": [
    "def calc_rate(eps, snr, n):\n",
    "    return np.log2(1. + snr*phi(eps, n))"
   ]
  },
  {
   "cell_type": "markdown",
   "metadata": {},
   "source": [
    "## Plots of Different Relations"
   ]
  },
  {
   "cell_type": "markdown",
   "metadata": {},
   "source": [
    "### Influence of a on cmin"
   ]
  },
  {
   "cell_type": "code",
   "execution_count": 7,
   "metadata": {},
   "outputs": [
    {
     "data": {
      "application/vnd.jupyter.widget-view+json": {
       "model_id": "da082abfa1a9432b9c555eb5585eeed4",
       "version_major": 2,
       "version_minor": 0
      },
      "text/plain": [
       "Canvas(toolbar=Toolbar(toolitems=[('Home', 'Reset original view', 'home', 'home'), ('Back', 'Back to previous …"
      ]
     },
     "metadata": {},
     "output_type": "display_data"
    },
    {
     "data": {
      "application/vnd.jupyter.widget-view+json": {
       "model_id": "8158111483274f3fa9457af43747b6f6",
       "version_major": 2,
       "version_minor": 0
      },
      "text/plain": [
       "interactive(children=(IntSlider(value=3, description='n', max=9, min=3), Output()), _dom_classes=('widget-inte…"
      ]
     },
     "metadata": {},
     "output_type": "display_data"
    }
   ],
   "source": [
    "def cmin_plot_a():\n",
    "    fig, ax = plt.subplots(num=\"c_n vs a\")\n",
    "    ax.set_xlabel(\"a\")\n",
    "    ax.set_ylabel(\"c_n\")\n",
    "    ax.set_ylim([1e-4, .1])\n",
    "    a = np.arange(0, 1, .1)\n",
    "    cmin = [determine_cmin(3, _a) for _a in a]\n",
    "    _plot = ax.semilogy(a, cmin, 'o-')[0]\n",
    "    \n",
    "    def update_plot(n=0):\n",
    "        _plot.set_ydata([determine_cmin(n, _a) for _a in a])\n",
    "        fig.canvas.draw_idle()\n",
    "    \n",
    "    interact(update_plot, n=(3, 9, 1))\n",
    "\n",
    "cmin_plot_a()"
   ]
  },
  {
   "cell_type": "markdown",
   "metadata": {},
   "source": [
    "It can be seen that $c_n(a)$ decreases with increasing $a$ and approaches zero. It is also decreasing with increasing $n$, however, it never actually reaches zero."
   ]
  },
  {
   "cell_type": "markdown",
   "metadata": {},
   "source": [
    "### Outage Rate"
   ]
  },
  {
   "cell_type": "code",
   "execution_count": 8,
   "metadata": {},
   "outputs": [
    {
     "data": {
      "application/vnd.jupyter.widget-view+json": {
       "model_id": "f411807a431d41b88d4845466c300d18",
       "version_major": 2,
       "version_minor": 0
      },
      "text/plain": [
       "Canvas(toolbar=Toolbar(toolitems=[('Home', 'Reset original view', 'home', 'home'), ('Back', 'Back to previous …"
      ]
     },
     "metadata": {},
     "output_type": "display_data"
    },
    {
     "data": {
      "application/vnd.jupyter.widget-view+json": {
       "model_id": "95b9f8c77ef14a6b97dc3fae549ec725",
       "version_major": 2,
       "version_minor": 0
      },
      "text/plain": [
       "interactive(children=(IntSlider(value=3, description='n', max=10, min=3), IntSlider(value=3, description='snr_…"
      ]
     },
     "metadata": {},
     "output_type": "display_data"
    }
   ],
   "source": [
    "def outage_rate_plot(snr_init=3, n_init=3):\n",
    "    fig, ax = plt.subplots(num='Worst-Case Epsilon-Outage Capacity')\n",
    "    ax.set_ylabel(\"eps-Capacity\")\n",
    "    ax.set_xlabel(\"eps\")\n",
    "    eps = np.arange(0, 1, .05)\n",
    "    _rate = [calc_rate(_eps, snr_init, n_init) for _eps in eps]\n",
    "    _plot = ax.plot(eps, _rate, 'o-')[0]\n",
    "    ax.set_xlim([0, 1])\n",
    "    ax.set_ylim([0, 7])\n",
    "\n",
    "    def update_plot(n=n_init, snr_db=snr_init):\n",
    "        snr = 10**(snr_db/10.)\n",
    "        _plot.set_ydata([calc_rate(_eps, snr, n) for _eps in eps])\n",
    "        fig.canvas.draw_idle()\n",
    "\n",
    "    interact(update_plot, n=(3, 10, 1), snr_db=(-2, 10, 2))\n",
    "\n",
    "outage_rate_plot()"
   ]
  },
  {
   "cell_type": "markdown",
   "metadata": {},
   "source": [
    "It can be seen that the best-case $\\varepsilon$-outage capacity increases with increasing $\\varepsilon$. It also increases with increasing $n$ and $\\rho$. One more important fact is, that it is always positive. Therefore, even the zero-outage capacity is greater than zero in the best case."
   ]
  }
 ],
 "metadata": {
  "kernelspec": {
   "display_name": "Python 3",
   "language": "python",
   "name": "python3"
  },
  "language_info": {
   "codemirror_mode": {
    "name": "ipython",
    "version": 3
   },
   "file_extension": ".py",
   "mimetype": "text/x-python",
   "name": "python",
   "nbconvert_exporter": "python",
   "pygments_lexer": "ipython3",
   "version": "3.8.6"
  }
 },
 "nbformat": 4,
 "nbformat_minor": 2
}
